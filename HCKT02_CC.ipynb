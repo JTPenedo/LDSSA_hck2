{
 "cells": [
  {
   "cell_type": "code",
   "execution_count": 130,
   "metadata": {},
   "outputs": [],
   "source": [
    "import pandas as pd\n",
    "import os\n",
    "import numpy as np\n",
    "import chardet\n",
    "import json\n",
    "from bs4 import BeautifulSoup\n",
    "import requests\n",
    "dir = os.getcwd()\n",
    "data_train1=dir+'/data/data_train_1/'\n",
    "data_train2=dir+'/data/data_train_2/'\n",
    "data_train3=dir+'/data/datasource6/'\n",
    "targets = pd.read_csv('sql_output_targets.csv')[['id','returned']]"
   ]
  },
  {
   "cell_type": "code",
   "execution_count": 131,
   "metadata": {},
   "outputs": [],
   "source": [
    "# 1st Folder\n",
    "a = pd.read_csv(data_train1+'datasource1.csv', encoding='latin1')\n",
    "b = pd.read_csv(data_train1+'datasource3.csv', encoding='latin1',sep='|')\n",
    "c = pd.read_json(data_train1+'datasource2.json', orient='split').reset_index()\n",
    "c.columns=['id','shipper', 'productid', 'isreseller', 'issale', 'category_1stlevel']\n",
    "d = pd.read_json(data_train2+'datasource5.csv').reset_index()\n",
    "d = d.rename(columns={\"index\": \"id\"})\n",
    "e = pd.read_csv(data_train2+'datasource7.csv')\n",
    "df1 = a.merge(c,on='id').merge(b,on='id').merge(d,on='id').merge(e,on='id').merge(targets,on='id')\n"
   ]
  },
  {
   "cell_type": "code",
   "execution_count": null,
   "metadata": {},
   "outputs": [],
   "source": []
  },
  {
   "cell_type": "code",
   "execution_count": null,
   "metadata": {},
   "outputs": [],
   "source": []
  },
  {
   "cell_type": "code",
   "execution_count": null,
   "metadata": {},
   "outputs": [],
   "source": []
  },
  {
   "cell_type": "code",
   "execution_count": null,
   "metadata": {},
   "outputs": [],
   "source": []
  },
  {
   "cell_type": "code",
   "execution_count": null,
   "metadata": {},
   "outputs": [],
   "source": []
  }
 ],
 "metadata": {
  "kernelspec": {
   "display_name": "Python 3",
   "language": "python",
   "name": "python3"
  },
  "language_info": {
   "codemirror_mode": {
    "name": "ipython",
    "version": 3
   },
   "file_extension": ".py",
   "mimetype": "text/x-python",
   "name": "python",
   "nbconvert_exporter": "python",
   "pygments_lexer": "ipython3",
   "version": "3.7.3"
  }
 },
 "nbformat": 4,
 "nbformat_minor": 4
}
