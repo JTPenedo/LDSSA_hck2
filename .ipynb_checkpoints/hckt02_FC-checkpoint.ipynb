{
 "cells": [
  {
   "cell_type": "code",
   "execution_count": 6,
   "metadata": {},
   "outputs": [],
   "source": [
    "import pandas as pd\n",
    "import os\n",
    "import numpy as np\n",
    "import chardet\n",
    "import json\n",
    "from bs4 import BeautifulSoup\n",
    "import requests\n",
    "dir = os.getcwd()\n",
    "\n",
    "\n",
    "#data_train1=dir+'/data/data_train_1/'\n",
    "#data_train2=dir+'/data/data_train_2/'\n",
    "#data_train3=dir+'/data/datasource6/'\n",
    "#test = dir+'/data/transformed_data/data_test/test/'\n",
    "\n",
    "\n",
    "# Test Features Merging\n",
    "'''dflist = []\n",
    "for file in os.listdir(test):\n",
    "    dflist.append(pd.read_excel(test+file,sheet_name=0).merge(pd.read_excel(test+file,sheet_name=1),on='id'))\n",
    "test_merged = pd.concat(dflist)\n",
    "test_merged.to_csv('test_features.csv')\n",
    "'''\n",
    "\n",
    "#df_test = pd.read_csv('test_features.csv')\n",
    "df_train = pd.read_csv('train_dataset_merged.csv')\n",
    "\n",
    "#webdata = pd.read_csv(data_train1+'web_data.csv')"
   ]
  },
  {
   "cell_type": "code",
   "execution_count": null,
   "metadata": {},
   "outputs": [],
   "source": []
  },
  {
   "cell_type": "code",
   "execution_count": 25,
   "metadata": {},
   "outputs": [],
   "source": [
    "'''# CSVs from datasource_6\n",
    "\n",
    "csvlist = []\n",
    "for file in os.listdir(data_train3):\n",
    "    if('.csv' in file):\n",
    "        csvlist.append(pd.read_csv(data_train3+file,engine='python'))\n",
    "csvlist = pd.concat(csvlist)\n",
    "csvlist.to_csv('csvlist.csv')\n",
    "\n",
    "\n",
    "csvlist = pd.read_csv('csvlist.csv')\n",
    "\n",
    "# 1st Folder\n",
    "a = pd.read_csv(data_train1+'datasource1.csv', encoding='latin1')\n",
    "b = pd.read_csv(data_train1+'datasource3.csv', encoding='latin1',sep='|')\n",
    "c = pd.read_json(data_train1+'datasource2.json', orient='split').reset_index()\n",
    "c.columns=['id','shipper', 'productid', 'isreseller', 'issale', 'category_1stlevel']\n",
    "\n",
    "# 2nd Folder\n",
    "d = pd.read_json(data_train2+'datasource5.csv').reset_index()\n",
    "d = d.rename(columns={\"index\": \"id\"})\n",
    "e = pd.read_csv(data_train2+'datasource7.csv')\n",
    "# .html\n",
    "html = pd.read_csv(data_train2+'datasource4.csv')\n",
    "\n",
    "WebData\n",
    "webdata = pd.read_csv(data_train1+'web_data.csv')\n",
    "\n",
    "# Targets\n",
    "targets = pd.read_csv('sql_output_targets.csv')[['id','returned']]\n",
    "\n",
    "# Train Data Set\n",
    "df_train = a.merge(c,on='id').merge(b,on='id').merge(d,on='id').merge(e,on='id').merge(html,on='id').merge(csvlist,on='id').merge(targets,on='id')\n",
    "\n",
    "'''"
   ]
  },
  {
   "cell_type": "code",
   "execution_count": null,
   "metadata": {},
   "outputs": [],
   "source": []
  },
  {
   "cell_type": "code",
   "execution_count": 33,
   "metadata": {},
   "outputs": [
    {
     "data": {
      "text/plain": [
       "<bound method Index.sort_values of Index(['id', 'tierafterorder', 'orderportalid', 'size', 'orderdate_gmt',\n",
       "       'hasusedwishlist', 'ldsa_team_wishes_you', 'shipper', 'productid',\n",
       "       'isreseller', 'issale', 'category_1stlevel', 'tierbeforeorder',\n",
       "       'ddprate', 'platform', 'style', 'region', 'isvip', 'brand', 'promocode',\n",
       "       'designer', 'countrycode', 'countryoforigin', 'userfraudstatus',\n",
       "       'useless values (delete please)', 'test strings (delete please)',\n",
       "       'Unnamed: 0_x', 'isusingmultipledevices', 'freereturn', 'userid',\n",
       "       'Unnamed: 0_y', 'ddpsubcategory', 'shiptypeid', 'hasitemsonbag',\n",
       "       'country', 'returned'],\n",
       "      dtype='object')>"
      ]
     },
     "execution_count": 33,
     "metadata": {},
     "output_type": "execute_result"
    }
   ],
   "source": [
    "df_train"
   ]
  },
  {
   "cell_type": "code",
   "execution_count": null,
   "metadata": {},
   "outputs": [],
   "source": []
  },
  {
   "cell_type": "code",
   "execution_count": null,
   "metadata": {},
   "outputs": [],
   "source": []
  },
  {
   "cell_type": "code",
   "execution_count": null,
   "metadata": {},
   "outputs": [],
   "source": []
  }
 ],
 "metadata": {
  "kernelspec": {
   "display_name": "Python 3",
   "language": "python",
   "name": "python3"
  },
  "language_info": {
   "codemirror_mode": {
    "name": "ipython",
    "version": 3
   },
   "file_extension": ".py",
   "mimetype": "text/x-python",
   "name": "python",
   "nbconvert_exporter": "python",
   "pygments_lexer": "ipython3",
   "version": "3.7.1"
  }
 },
 "nbformat": 4,
 "nbformat_minor": 4
}
